{
 "cells": [
  {
   "cell_type": "markdown",
   "id": "d85404b8",
   "metadata": {},
   "source": [
    "# 1. Import libraries and data"
   ]
  },
  {
   "cell_type": "code",
   "execution_count": 47,
   "id": "e4309b72",
   "metadata": {},
   "outputs": [],
   "source": [
    "import sys\n",
    "import os\n",
    "import pandas as pd\n",
    "import numpy as np\n",
    "\n",
    "import matplotlib.pyplot as plt\n",
    "import matplotlib\n"
   ]
  },
  {
   "cell_type": "code",
   "execution_count": 31,
   "id": "e4dd9bc6",
   "metadata": {},
   "outputs": [],
   "source": [
    "# get_path = os.path.abspath(\"\")\n",
    "project_path = \"d:\\\\PYTHON\\\\CS_Bootcamp\\\\programs\\\\cs-intrusion-detection-system\"\n",
    "\n",
    "# add path to load own functions from .py files in scrips folder\n",
    "sys.path.insert(0, project_path + '\\scripts')\n",
    "\n",
    "from preprocessing import *"
   ]
  },
  {
   "cell_type": "code",
   "execution_count": null,
   "id": "cf8108bf",
   "metadata": {},
   "outputs": [],
   "source": [
    "# constants and names \n",
    "file_name_train_data = \"KDDTrain+.txt\"\n",
    "file_name_test_tata = \"KDDTest+.txt\"\n",
    "\n",
    "#  column names\n",
    "column_names = [\n",
    "    \"duration\",\n",
    "    \"protocol_type\",\n",
    "    \"service\",\n",
    "    \"flag\",\n",
    "    \"src_bytes\",\n",
    "    \"dst_bytes\",\n",
    "    \"land\",\n",
    "    \"wrong_fragment\",\n",
    "    \"urgent\",\n",
    "    \"hot\",\n",
    "    \"num_failed_logins\",\n",
    "    \"logged_in\",\n",
    "    \"num_compromised\",\n",
    "    \"root_shell\",\n",
    "    \"su_attempted\",\n",
    "    \"num_root\",\n",
    "    \"num_file_creations\",\n",
    "    \"num_shells\",\n",
    "    \"num_access_files\",\n",
    "    \"num_outbound_cmds\",\n",
    "    \"is_host_login\",\n",
    "    \"is_guest_login\",\n",
    "    \"count\",\n",
    "    \"srv_count\",\n",
    "    \"serror_rate\",\n",
    "    \"srv_serror_rate\",\n",
    "    \"rerror_rate\",\n",
    "    \"srv_rerror_rate\",\n",
    "    \"same_srv_rate\",\n",
    "    \"diff_srv_rate\",\n",
    "    \"srv_diff_host_rate\",\n",
    "    \"dst_host_count\",\n",
    "    \"dst_host_srv_count\",\n",
    "    \"dst_host_same_srv_rate\",\n",
    "    \"dst_host_diff_srv_rate\",\n",
    "    \"dst_host_same_src_port_rate\",\n",
    "    \"dst_host_srv_diff_host_rate\",\n",
    "    \"dst_host_serror_rate\",\n",
    "    \"dst_host_srv_serror_rate\",\n",
    "    \"dst_host_rerror_rate\",\n",
    "    \"dst_host_srv_rerror_rate\",\n",
    "    \"attack_type\",\n",
    "    \"difficulty_level\"\n",
    "]"
   ]
  },
  {
   "cell_type": "code",
   "execution_count": 9,
   "id": "32281f75",
   "metadata": {},
   "outputs": [],
   "source": [
    "# load data as df\n",
    "train_data = pd.read_csv(\"../data/\"+ file_name_train_data,  names=column_names)\n",
    "test_data = pd.read_csv(\"../data/\"+ file_name_test_tata, names=column_names)"
   ]
  },
  {
   "cell_type": "code",
   "execution_count": 10,
   "id": "6dd55804",
   "metadata": {},
   "outputs": [
    {
     "name": "stdout",
     "output_type": "stream",
     "text": [
      "The training data frame has 125973 rows and 43 columns.\n",
      "The test data frame has 22544 rows and 43 columns.\n"
     ]
    },
    {
     "data": {
      "text/html": [
       "<div>\n",
       "<style scoped>\n",
       "    .dataframe tbody tr th:only-of-type {\n",
       "        vertical-align: middle;\n",
       "    }\n",
       "\n",
       "    .dataframe tbody tr th {\n",
       "        vertical-align: top;\n",
       "    }\n",
       "\n",
       "    .dataframe thead th {\n",
       "        text-align: right;\n",
       "    }\n",
       "</style>\n",
       "<table border=\"1\" class=\"dataframe\">\n",
       "  <thead>\n",
       "    <tr style=\"text-align: right;\">\n",
       "      <th></th>\n",
       "      <th>duration</th>\n",
       "      <th>protocol_type</th>\n",
       "      <th>service</th>\n",
       "      <th>flag</th>\n",
       "      <th>src_bytes</th>\n",
       "      <th>dst_bytes</th>\n",
       "      <th>land</th>\n",
       "      <th>wrong_fragment</th>\n",
       "      <th>urgent</th>\n",
       "      <th>hot</th>\n",
       "      <th>...</th>\n",
       "      <th>dst_host_same_srv_rate</th>\n",
       "      <th>dst_host_diff_srv_rate</th>\n",
       "      <th>dst_host_same_src_port_rate</th>\n",
       "      <th>dst_host_srv_diff_host_rate</th>\n",
       "      <th>dst_host_serror_rate</th>\n",
       "      <th>dst_host_srv_serror_rate</th>\n",
       "      <th>dst_host_rerror_rate</th>\n",
       "      <th>dst_host_srv_rerror_rate</th>\n",
       "      <th>attack_type</th>\n",
       "      <th>difficulty_level</th>\n",
       "    </tr>\n",
       "  </thead>\n",
       "  <tbody>\n",
       "    <tr>\n",
       "      <th>0</th>\n",
       "      <td>0</td>\n",
       "      <td>tcp</td>\n",
       "      <td>ftp_data</td>\n",
       "      <td>SF</td>\n",
       "      <td>491</td>\n",
       "      <td>0</td>\n",
       "      <td>0</td>\n",
       "      <td>0</td>\n",
       "      <td>0</td>\n",
       "      <td>0</td>\n",
       "      <td>...</td>\n",
       "      <td>0.17</td>\n",
       "      <td>0.03</td>\n",
       "      <td>0.17</td>\n",
       "      <td>0.00</td>\n",
       "      <td>0.00</td>\n",
       "      <td>0.00</td>\n",
       "      <td>0.05</td>\n",
       "      <td>0.00</td>\n",
       "      <td>normal</td>\n",
       "      <td>20</td>\n",
       "    </tr>\n",
       "    <tr>\n",
       "      <th>1</th>\n",
       "      <td>0</td>\n",
       "      <td>udp</td>\n",
       "      <td>other</td>\n",
       "      <td>SF</td>\n",
       "      <td>146</td>\n",
       "      <td>0</td>\n",
       "      <td>0</td>\n",
       "      <td>0</td>\n",
       "      <td>0</td>\n",
       "      <td>0</td>\n",
       "      <td>...</td>\n",
       "      <td>0.00</td>\n",
       "      <td>0.60</td>\n",
       "      <td>0.88</td>\n",
       "      <td>0.00</td>\n",
       "      <td>0.00</td>\n",
       "      <td>0.00</td>\n",
       "      <td>0.00</td>\n",
       "      <td>0.00</td>\n",
       "      <td>normal</td>\n",
       "      <td>15</td>\n",
       "    </tr>\n",
       "    <tr>\n",
       "      <th>2</th>\n",
       "      <td>0</td>\n",
       "      <td>tcp</td>\n",
       "      <td>private</td>\n",
       "      <td>S0</td>\n",
       "      <td>0</td>\n",
       "      <td>0</td>\n",
       "      <td>0</td>\n",
       "      <td>0</td>\n",
       "      <td>0</td>\n",
       "      <td>0</td>\n",
       "      <td>...</td>\n",
       "      <td>0.10</td>\n",
       "      <td>0.05</td>\n",
       "      <td>0.00</td>\n",
       "      <td>0.00</td>\n",
       "      <td>1.00</td>\n",
       "      <td>1.00</td>\n",
       "      <td>0.00</td>\n",
       "      <td>0.00</td>\n",
       "      <td>neptune</td>\n",
       "      <td>19</td>\n",
       "    </tr>\n",
       "    <tr>\n",
       "      <th>3</th>\n",
       "      <td>0</td>\n",
       "      <td>tcp</td>\n",
       "      <td>http</td>\n",
       "      <td>SF</td>\n",
       "      <td>232</td>\n",
       "      <td>8153</td>\n",
       "      <td>0</td>\n",
       "      <td>0</td>\n",
       "      <td>0</td>\n",
       "      <td>0</td>\n",
       "      <td>...</td>\n",
       "      <td>1.00</td>\n",
       "      <td>0.00</td>\n",
       "      <td>0.03</td>\n",
       "      <td>0.04</td>\n",
       "      <td>0.03</td>\n",
       "      <td>0.01</td>\n",
       "      <td>0.00</td>\n",
       "      <td>0.01</td>\n",
       "      <td>normal</td>\n",
       "      <td>21</td>\n",
       "    </tr>\n",
       "    <tr>\n",
       "      <th>4</th>\n",
       "      <td>0</td>\n",
       "      <td>tcp</td>\n",
       "      <td>http</td>\n",
       "      <td>SF</td>\n",
       "      <td>199</td>\n",
       "      <td>420</td>\n",
       "      <td>0</td>\n",
       "      <td>0</td>\n",
       "      <td>0</td>\n",
       "      <td>0</td>\n",
       "      <td>...</td>\n",
       "      <td>1.00</td>\n",
       "      <td>0.00</td>\n",
       "      <td>0.00</td>\n",
       "      <td>0.00</td>\n",
       "      <td>0.00</td>\n",
       "      <td>0.00</td>\n",
       "      <td>0.00</td>\n",
       "      <td>0.00</td>\n",
       "      <td>normal</td>\n",
       "      <td>21</td>\n",
       "    </tr>\n",
       "  </tbody>\n",
       "</table>\n",
       "<p>5 rows × 43 columns</p>\n",
       "</div>"
      ],
      "text/plain": [
       "   duration protocol_type   service flag  src_bytes  dst_bytes  land  \\\n",
       "0         0           tcp  ftp_data   SF        491          0     0   \n",
       "1         0           udp     other   SF        146          0     0   \n",
       "2         0           tcp   private   S0          0          0     0   \n",
       "3         0           tcp      http   SF        232       8153     0   \n",
       "4         0           tcp      http   SF        199        420     0   \n",
       "\n",
       "   wrong_fragment  urgent  hot  ...  dst_host_same_srv_rate  \\\n",
       "0               0       0    0  ...                    0.17   \n",
       "1               0       0    0  ...                    0.00   \n",
       "2               0       0    0  ...                    0.10   \n",
       "3               0       0    0  ...                    1.00   \n",
       "4               0       0    0  ...                    1.00   \n",
       "\n",
       "   dst_host_diff_srv_rate  dst_host_same_src_port_rate  \\\n",
       "0                    0.03                         0.17   \n",
       "1                    0.60                         0.88   \n",
       "2                    0.05                         0.00   \n",
       "3                    0.00                         0.03   \n",
       "4                    0.00                         0.00   \n",
       "\n",
       "   dst_host_srv_diff_host_rate  dst_host_serror_rate  \\\n",
       "0                         0.00                  0.00   \n",
       "1                         0.00                  0.00   \n",
       "2                         0.00                  1.00   \n",
       "3                         0.04                  0.03   \n",
       "4                         0.00                  0.00   \n",
       "\n",
       "   dst_host_srv_serror_rate  dst_host_rerror_rate  dst_host_srv_rerror_rate  \\\n",
       "0                      0.00                  0.05                      0.00   \n",
       "1                      0.00                  0.00                      0.00   \n",
       "2                      1.00                  0.00                      0.00   \n",
       "3                      0.01                  0.00                      0.01   \n",
       "4                      0.00                  0.00                      0.00   \n",
       "\n",
       "   attack_type  difficulty_level  \n",
       "0       normal                20  \n",
       "1       normal                15  \n",
       "2      neptune                19  \n",
       "3       normal                21  \n",
       "4       normal                21  \n",
       "\n",
       "[5 rows x 43 columns]"
      ]
     },
     "execution_count": 10,
     "metadata": {},
     "output_type": "execute_result"
    }
   ],
   "source": [
    "# Dimensions of dfs\n",
    "print(f'The training data frame has {train_data.shape[0]} rows and {train_data.shape[1]} columns.')\n",
    "print(f'The test data frame has {test_data.shape[0]} rows and {test_data.shape[1]} columns.')\n",
    "train_data.head()"
   ]
  },
  {
   "cell_type": "markdown",
   "id": "16b33d98",
   "metadata": {},
   "source": [
    "# 2. Data cleaning"
   ]
  },
  {
   "cell_type": "code",
   "execution_count": null,
   "id": "ea5d0107",
   "metadata": {},
   "outputs": [
    {
     "name": "stdout",
     "output_type": "stream",
     "text": [
      "There are 0 missing values in the training data and 0 missing values in the test data.\n"
     ]
    }
   ],
   "source": [
    "# Check missing values\n",
    "na_train = train_data.isna().sum().sum()\n",
    "na_test = test_data.isna().sum().sum()\n",
    "print(f'There are {na_train} missing values in the training data and {na_test} missing values in the test data.')\n"
   ]
  },
  {
   "cell_type": "code",
   "execution_count": null,
   "id": "2af131f4",
   "metadata": {},
   "outputs": [
    {
     "name": "stdout",
     "output_type": "stream",
     "text": [
      "There are 0 duplicated values in the client data and 0 duplicated values in the test data.\n"
     ]
    }
   ],
   "source": [
    "# Check duplicated values\n",
    "dupes_train = train_data.duplicated().sum()\n",
    "dupes_test = test_data.duplicated().sum()\n",
    "print(f'There are {dupes_train} duplicated values in the train data and {dupes_test} duplicated values in the test data.')"
   ]
  },
  {
   "cell_type": "markdown",
   "id": "9046c8ee",
   "metadata": {},
   "source": [
    "# 3.  Check data types \n",
    "- convert categorical variables to categorical data types \n",
    "- inspect data types with `.info()`\n",
    "- count number of unique values with `.nunique()`\n",
    "- inspect unique valuues with `.unique()`"
   ]
  },
  {
   "cell_type": "code",
   "execution_count": 13,
   "id": "76ff3bec",
   "metadata": {},
   "outputs": [
    {
     "name": "stdout",
     "output_type": "stream",
     "text": [
      "<class 'pandas.core.frame.DataFrame'>\n",
      "RangeIndex: 125973 entries, 0 to 125972\n",
      "Data columns (total 43 columns):\n",
      " #   Column                       Non-Null Count   Dtype  \n",
      "---  ------                       --------------   -----  \n",
      " 0   duration                     125973 non-null  int64  \n",
      " 1   protocol_type                125973 non-null  object \n",
      " 2   service                      125973 non-null  object \n",
      " 3   flag                         125973 non-null  object \n",
      " 4   src_bytes                    125973 non-null  int64  \n",
      " 5   dst_bytes                    125973 non-null  int64  \n",
      " 6   land                         125973 non-null  int64  \n",
      " 7   wrong_fragment               125973 non-null  int64  \n",
      " 8   urgent                       125973 non-null  int64  \n",
      " 9   hot                          125973 non-null  int64  \n",
      " 10  num_failed_logins            125973 non-null  int64  \n",
      " 11  logged_in                    125973 non-null  int64  \n",
      " 12  num_compromised              125973 non-null  int64  \n",
      " 13  root_shell                   125973 non-null  int64  \n",
      " 14  su_attempted                 125973 non-null  int64  \n",
      " 15  num_root                     125973 non-null  int64  \n",
      " 16  num_file_creations           125973 non-null  int64  \n",
      " 17  num_shells                   125973 non-null  int64  \n",
      " 18  num_access_files             125973 non-null  int64  \n",
      " 19  num_outbound_cmds            125973 non-null  int64  \n",
      " 20  is_host_login                125973 non-null  int64  \n",
      " 21  is_guest_login               125973 non-null  int64  \n",
      " 22  count                        125973 non-null  int64  \n",
      " 23  srv_count                    125973 non-null  int64  \n",
      " 24  serror_rate                  125973 non-null  float64\n",
      " 25  srv_serror_rate              125973 non-null  float64\n",
      " 26  rerror_rate                  125973 non-null  float64\n",
      " 27  srv_rerror_rate              125973 non-null  float64\n",
      " 28  same_srv_rate                125973 non-null  float64\n",
      " 29  diff_srv_rate                125973 non-null  float64\n",
      " 30  srv_diff_host_rate           125973 non-null  float64\n",
      " 31  dst_host_count               125973 non-null  int64  \n",
      " 32  dst_host_srv_count           125973 non-null  int64  \n",
      " 33  dst_host_same_srv_rate       125973 non-null  float64\n",
      " 34  dst_host_diff_srv_rate       125973 non-null  float64\n",
      " 35  dst_host_same_src_port_rate  125973 non-null  float64\n",
      " 36  dst_host_srv_diff_host_rate  125973 non-null  float64\n",
      " 37  dst_host_serror_rate         125973 non-null  float64\n",
      " 38  dst_host_srv_serror_rate     125973 non-null  float64\n",
      " 39  dst_host_rerror_rate         125973 non-null  float64\n",
      " 40  dst_host_srv_rerror_rate     125973 non-null  float64\n",
      " 41  attack_type                  125973 non-null  object \n",
      " 42  difficulty_level             125973 non-null  int64  \n",
      "dtypes: float64(15), int64(24), object(4)\n",
      "memory usage: 41.3+ MB\n"
     ]
    }
   ],
   "source": [
    "train_data.info()"
   ]
  },
  {
   "cell_type": "code",
   "execution_count": 14,
   "id": "33bc452c",
   "metadata": {},
   "outputs": [
    {
     "data": {
      "text/plain": [
       "duration                       2981\n",
       "protocol_type                     3\n",
       "service                          70\n",
       "flag                             11\n",
       "src_bytes                      3341\n",
       "dst_bytes                      9326\n",
       "land                              2\n",
       "wrong_fragment                    3\n",
       "urgent                            4\n",
       "hot                              28\n",
       "num_failed_logins                 6\n",
       "logged_in                         2\n",
       "num_compromised                  88\n",
       "root_shell                        2\n",
       "su_attempted                      3\n",
       "num_root                         82\n",
       "num_file_creations               35\n",
       "num_shells                        3\n",
       "num_access_files                 10\n",
       "num_outbound_cmds                 1\n",
       "is_host_login                     2\n",
       "is_guest_login                    2\n",
       "count                           512\n",
       "srv_count                       509\n",
       "serror_rate                      89\n",
       "srv_serror_rate                  86\n",
       "rerror_rate                      82\n",
       "srv_rerror_rate                  62\n",
       "same_srv_rate                   101\n",
       "diff_srv_rate                    95\n",
       "srv_diff_host_rate               60\n",
       "dst_host_count                  256\n",
       "dst_host_srv_count              256\n",
       "dst_host_same_srv_rate          101\n",
       "dst_host_diff_srv_rate          101\n",
       "dst_host_same_src_port_rate     101\n",
       "dst_host_srv_diff_host_rate      75\n",
       "dst_host_serror_rate            101\n",
       "dst_host_srv_serror_rate        100\n",
       "dst_host_rerror_rate            101\n",
       "dst_host_srv_rerror_rate        101\n",
       "attack_type                      23\n",
       "difficulty_level                 22\n",
       "dtype: int64"
      ]
     },
     "execution_count": 14,
     "metadata": {},
     "output_type": "execute_result"
    }
   ],
   "source": [
    "# getting unique values for each column to get an idea about numerical/categorical features\n",
    "train_data.nunique()"
   ]
  },
  {
   "cell_type": "code",
   "execution_count": 15,
   "id": "fb117538",
   "metadata": {},
   "outputs": [
    {
     "data": {
      "text/plain": [
       "array(['tcp', 'udp', 'icmp'], dtype=object)"
      ]
     },
     "execution_count": 15,
     "metadata": {},
     "output_type": "execute_result"
    }
   ],
   "source": [
    "train_data.protocol_type.unique()"
   ]
  },
  {
   "cell_type": "code",
   "execution_count": 16,
   "id": "c361ec10",
   "metadata": {},
   "outputs": [
    {
     "data": {
      "text/plain": [
       "array(['ftp_data', 'other', 'private', 'http', 'remote_job', 'name',\n",
       "       'netbios_ns', 'eco_i', 'mtp', 'telnet', 'finger', 'domain_u',\n",
       "       'supdup', 'uucp_path', 'Z39_50', 'smtp', 'csnet_ns', 'uucp',\n",
       "       'netbios_dgm', 'urp_i', 'auth', 'domain', 'ftp', 'bgp', 'ldap',\n",
       "       'ecr_i', 'gopher', 'vmnet', 'systat', 'http_443', 'efs', 'whois',\n",
       "       'imap4', 'iso_tsap', 'echo', 'klogin', 'link', 'sunrpc', 'login',\n",
       "       'kshell', 'sql_net', 'time', 'hostnames', 'exec', 'ntp_u',\n",
       "       'discard', 'nntp', 'courier', 'ctf', 'ssh', 'daytime', 'shell',\n",
       "       'netstat', 'pop_3', 'nnsp', 'IRC', 'pop_2', 'printer', 'tim_i',\n",
       "       'pm_dump', 'red_i', 'netbios_ssn', 'rje', 'X11', 'urh_i',\n",
       "       'http_8001', 'aol', 'http_2784', 'tftp_u', 'harvest'], dtype=object)"
      ]
     },
     "execution_count": 16,
     "metadata": {},
     "output_type": "execute_result"
    }
   ],
   "source": [
    "train_data.service.unique()"
   ]
  },
  {
   "cell_type": "code",
   "execution_count": 17,
   "id": "87250e90",
   "metadata": {},
   "outputs": [
    {
     "data": {
      "text/plain": [
       "array(['SF', 'S0', 'REJ', 'RSTR', 'SH', 'RSTO', 'S1', 'RSTOS0', 'S3',\n",
       "       'S2', 'OTH'], dtype=object)"
      ]
     },
     "execution_count": 17,
     "metadata": {},
     "output_type": "execute_result"
    }
   ],
   "source": [
    "train_data.flag.unique()"
   ]
  },
  {
   "cell_type": "code",
   "execution_count": 19,
   "id": "3309f523",
   "metadata": {},
   "outputs": [
    {
     "data": {
      "text/plain": [
       "array(['normal', 'neptune', 'warezclient', 'ipsweep', 'portsweep',\n",
       "       'teardrop', 'nmap', 'satan', 'smurf', 'pod', 'back',\n",
       "       'guess_passwd', 'ftp_write', 'multihop', 'rootkit',\n",
       "       'buffer_overflow', 'imap', 'warezmaster', 'phf', 'land',\n",
       "       'loadmodule', 'spy', 'perl'], dtype=object)"
      ]
     },
     "execution_count": 19,
     "metadata": {},
     "output_type": "execute_result"
    }
   ],
   "source": [
    "train_data.attack_type.unique()"
   ]
  },
  {
   "cell_type": "code",
   "execution_count": 20,
   "id": "35078ee8",
   "metadata": {},
   "outputs": [
    {
     "data": {
      "text/plain": [
       "array([20, 15, 19, 21, 18, 17, 16, 12, 14, 11,  2, 13, 10,  9,  8,  7,  3,\n",
       "        5,  1,  6,  0,  4])"
      ]
     },
     "execution_count": 20,
     "metadata": {},
     "output_type": "execute_result"
    }
   ],
   "source": [
    "train_data.difficulty_level.unique()"
   ]
  },
  {
   "cell_type": "code",
   "execution_count": 35,
   "id": "a156fb89",
   "metadata": {},
   "outputs": [],
   "source": [
    "# categorical features \n",
    "bool_features = [\"land\", \"logged_in\", \"root_shell\", \"su_attempted\", \"is_host_login\", \"is_guest_login\"]\n",
    "cat_features = [\"protocol_type\", \"service\", \"flag\", \"attack_type\"]"
   ]
  },
  {
   "cell_type": "code",
   "execution_count": null,
   "id": "fef04347",
   "metadata": {},
   "outputs": [
    {
     "name": "stdout",
     "output_type": "stream",
     "text": [
      "<class 'pandas.core.frame.DataFrame'>\n",
      "RangeIndex: 125973 entries, 0 to 125972\n",
      "Data columns (total 43 columns):\n",
      " #   Column                       Non-Null Count   Dtype   \n",
      "---  ------                       --------------   -----   \n",
      " 0   duration                     125973 non-null  int64   \n",
      " 1   protocol_type                125973 non-null  category\n",
      " 2   service                      125973 non-null  category\n",
      " 3   flag                         125973 non-null  category\n",
      " 4   src_bytes                    125973 non-null  int64   \n",
      " 5   dst_bytes                    125973 non-null  int64   \n",
      " 6   land                         125973 non-null  category\n",
      " 7   wrong_fragment               125973 non-null  int64   \n",
      " 8   urgent                       125973 non-null  int64   \n",
      " 9   hot                          125973 non-null  int64   \n",
      " 10  num_failed_logins            125973 non-null  int64   \n",
      " 11  logged_in                    125973 non-null  category\n",
      " 12  num_compromised              125973 non-null  int64   \n",
      " 13  root_shell                   125973 non-null  category\n",
      " 14  su_attempted                 125973 non-null  category\n",
      " 15  num_root                     125973 non-null  int64   \n",
      " 16  num_file_creations           125973 non-null  int64   \n",
      " 17  num_shells                   125973 non-null  int64   \n",
      " 18  num_access_files             125973 non-null  int64   \n",
      " 19  num_outbound_cmds            125973 non-null  int64   \n",
      " 20  is_host_login                125973 non-null  category\n",
      " 21  is_guest_login               125973 non-null  category\n",
      " 22  count                        125973 non-null  int64   \n",
      " 23  srv_count                    125973 non-null  int64   \n",
      " 24  serror_rate                  125973 non-null  float64 \n",
      " 25  srv_serror_rate              125973 non-null  float64 \n",
      " 26  rerror_rate                  125973 non-null  float64 \n",
      " 27  srv_rerror_rate              125973 non-null  float64 \n",
      " 28  same_srv_rate                125973 non-null  float64 \n",
      " 29  diff_srv_rate                125973 non-null  float64 \n",
      " 30  srv_diff_host_rate           125973 non-null  float64 \n",
      " 31  dst_host_count               125973 non-null  int64   \n",
      " 32  dst_host_srv_count           125973 non-null  int64   \n",
      " 33  dst_host_same_srv_rate       125973 non-null  float64 \n",
      " 34  dst_host_diff_srv_rate       125973 non-null  float64 \n",
      " 35  dst_host_same_src_port_rate  125973 non-null  float64 \n",
      " 36  dst_host_srv_diff_host_rate  125973 non-null  float64 \n",
      " 37  dst_host_serror_rate         125973 non-null  float64 \n",
      " 38  dst_host_srv_serror_rate     125973 non-null  float64 \n",
      " 39  dst_host_rerror_rate         125973 non-null  float64 \n",
      " 40  dst_host_srv_rerror_rate     125973 non-null  float64 \n",
      " 41  attack_type                  125973 non-null  category\n",
      " 42  difficulty_level             125973 non-null  int64   \n",
      "dtypes: category(10), float64(15), int64(18)\n",
      "memory usage: 32.9 MB\n"
     ]
    }
   ],
   "source": [
    "# convert to str\n",
    "train_data = convert_column_type(train_data, cat_features, str)\n",
    "\n",
    "# convert bool to int\n",
    "train_data = convert_column_type(train_data, bool_features, int)\n",
    "\n",
    "# convert to category\n",
    "train_data = convert_column_type(train_data, cat_features + bool_features, 'category') \n",
    "\n",
    "# check conversions\n",
    "train_data.info()"
   ]
  },
  {
   "cell_type": "markdown",
   "id": "2aeeb086",
   "metadata": {},
   "source": [
    "# 4. EDA - data exploration"
   ]
  },
  {
   "cell_type": "markdown",
   "id": "bdd24ee0",
   "metadata": {},
   "source": [
    "## 4.1 Inspect target variable `attack_type` \n",
    "- What is the overall rate of normal vs malicous network traffic?"
   ]
  },
  {
   "cell_type": "code",
   "execution_count": 100,
   "id": "12f18038",
   "metadata": {},
   "outputs": [
    {
     "name": "stdout",
     "output_type": "stream",
     "text": [
      "In the training data there is 53.46 % normal network traffic.\n",
      "\n",
      "        attack_type  proportion\n",
      "0            normal    0.534583\n",
      "1           neptune    0.327165\n",
      "2             satan    0.028840\n",
      "3           ipsweep    0.028570\n",
      "4         portsweep    0.023267\n",
      "5             smurf    0.021005\n",
      "6              nmap    0.011852\n",
      "7              back    0.007589\n",
      "8          teardrop    0.007081\n",
      "9       warezclient    0.007065\n",
      "10              pod    0.001596\n",
      "11     guess_passwd    0.000421\n",
      "12  buffer_overflow    0.000238\n",
      "13      warezmaster    0.000159\n",
      "14             land    0.000143\n",
      "15             imap    0.000087\n",
      "16          rootkit    0.000079\n",
      "17       loadmodule    0.000071\n",
      "18        ftp_write    0.000064\n",
      "19         multihop    0.000056\n",
      "20              phf    0.000032\n",
      "21             perl    0.000024\n",
      "22              spy    0.000016\n"
     ]
    }
   ],
   "source": [
    "df_attack_type_proportions = train_data.attack_type.value_counts(normalize=True).reset_index()\n",
    "df_normal_attacks = df_attack_type_proportions[df_attack_type_proportions.attack_type == \"normal\"].proportion * 100\n",
    "\n",
    "print(f\"In the training data there is {round(df_normal_attacks.values[0],2)} % normal network traffic.\\n\")\n",
    "print(df_attack_type_proportions)"
   ]
  },
  {
   "cell_type": "markdown",
   "id": "b821e85c",
   "metadata": {},
   "source": [
    "- What is the distribution of different attack types?"
   ]
  },
  {
   "cell_type": "code",
   "execution_count": 73,
   "id": "cd6eb3f8",
   "metadata": {},
   "outputs": [
    {
     "data": {
      "image/png": "[encoded data removed]",
      "text/plain": [
       "<Figure size 640x480 with 1 Axes>"
      ]
     },
     "metadata": {},
     "output_type": "display_data"
    }
   ],
   "source": [
    "plt.pie(df_attack_type_proportions.proportion, \n",
    "        labels = df_attack_type_proportions.attack_type,\n",
    "        #explode = pie_pieces,\n",
    "        autopct='%1.2f%%',          # format and display percentages\n",
    "        #colors=['steelblue', '#E42A38'],\n",
    "            )\n",
    "    \n",
    "plt.title('Distribution of attack types in the training data')\n",
    "plt.show()"
   ]
  },
  {
   "cell_type": "markdown",
   "id": "676fcd24",
   "metadata": {},
   "source": [
    "Summarize attacks that occur in less than 1% to 'other' category (for prettier plotting)"
   ]
  },
  {
   "cell_type": "code",
   "execution_count": 104,
   "id": "761156bd",
   "metadata": {},
   "outputs": [],
   "source": [
    "# add new category\n",
    "df_attack_type_proportions.attack_type = df_attack_type_proportions.attack_type.cat.add_categories([\"other\"])\n",
    "# add attack types to category based on their proportion \n",
    "df_attack_type_proportions.loc[df_attack_type_proportions.proportion < 0.01, \"attack_type\"] = 'other'"
   ]
  },
  {
   "cell_type": "code",
   "execution_count": null,
   "id": "8deecee7",
   "metadata": {},
   "outputs": [
    {
     "data": {
      "text/html": [
       "<div>\n",
       "<style scoped>\n",
       "    .dataframe tbody tr th:only-of-type {\n",
       "        vertical-align: middle;\n",
       "    }\n",
       "\n",
       "    .dataframe tbody tr th {\n",
       "        vertical-align: top;\n",
       "    }\n",
       "\n",
       "    .dataframe thead th {\n",
       "        text-align: right;\n",
       "    }\n",
       "</style>\n",
       "<table border=\"1\" class=\"dataframe\">\n",
       "  <thead>\n",
       "    <tr style=\"text-align: right;\">\n",
       "      <th></th>\n",
       "      <th>attack_type</th>\n",
       "      <th>proportion</th>\n",
       "    </tr>\n",
       "  </thead>\n",
       "  <tbody>\n",
       "    <tr>\n",
       "      <th>3</th>\n",
       "      <td>normal</td>\n",
       "      <td>0.534583</td>\n",
       "    </tr>\n",
       "    <tr>\n",
       "      <th>1</th>\n",
       "      <td>neptune</td>\n",
       "      <td>0.327165</td>\n",
       "    </tr>\n",
       "    <tr>\n",
       "      <th>5</th>\n",
       "      <td>satan</td>\n",
       "      <td>0.028840</td>\n",
       "    </tr>\n",
       "    <tr>\n",
       "      <th>0</th>\n",
       "      <td>ipsweep</td>\n",
       "      <td>0.028570</td>\n",
       "    </tr>\n",
       "    <tr>\n",
       "      <th>7</th>\n",
       "      <td>other</td>\n",
       "      <td>0.024720</td>\n",
       "    </tr>\n",
       "    <tr>\n",
       "      <th>4</th>\n",
       "      <td>portsweep</td>\n",
       "      <td>0.023267</td>\n",
       "    </tr>\n",
       "    <tr>\n",
       "      <th>6</th>\n",
       "      <td>smurf</td>\n",
       "      <td>0.021005</td>\n",
       "    </tr>\n",
       "    <tr>\n",
       "      <th>2</th>\n",
       "      <td>nmap</td>\n",
       "      <td>0.011852</td>\n",
       "    </tr>\n",
       "  </tbody>\n",
       "</table>\n",
       "</div>"
      ],
      "text/plain": [
       "  attack_type  proportion\n",
       "3      normal    0.534583\n",
       "1     neptune    0.327165\n",
       "5       satan    0.028840\n",
       "0     ipsweep    0.028570\n",
       "7       other    0.024720\n",
       "4   portsweep    0.023267\n",
       "6       smurf    0.021005\n",
       "2        nmap    0.011852"
      ]
     },
     "execution_count": 114,
     "metadata": {},
     "output_type": "execute_result"
    }
   ],
   "source": [
    "# sum up values of new category \"other\" and sort values for plotting\n",
    "df_reduced_cat = df_attack_type_proportions.groupby(\"attack_type\", observed=True, as_index=False).proportion.sum()\n",
    "df_reduced_cat.sort_values(\"proportion\", ascending=False, inplace=True)\n",
    "df_reduced_cat"
   ]
  },
  {
   "cell_type": "code",
   "execution_count": 115,
   "id": "250fde1a",
   "metadata": {},
   "outputs": [
    {
     "data": {
      "image/png": "[encoded data removed]",
      "text/plain": [
       "<Figure size 640x480 with 1 Axes>"
      ]
     },
     "metadata": {},
     "output_type": "display_data"
    }
   ],
   "source": [
    "plt.pie(df_reduced_cat.proportion, \n",
    "    labels = df_reduced_cat.attack_type,\n",
    "    #explode = pie_pieces,\n",
    "    autopct='%1.2f%%',          # format and display percentages\n",
    "    #colors=['steelblue', '#E42A38'],\n",
    "        )\n",
    "    \n",
    "plt.title('Distribution of attack types in the training data')\n",
    "plt.show()"
   ]
  },
  {
   "cell_type": "markdown",
   "id": "e60b472e",
   "metadata": {},
   "source": [
    "Summarize the different attack types into categories of attacks:\n",
    "1. Denial of Service (DoS)\n",
    "2. Scanning/Reconnaissance (Probe)\n",
    "3. Remote to local (R2L)\n",
    "4. User to Root Escalation (U2R)"
   ]
  },
  {
   "cell_type": "code",
   "execution_count": null,
   "id": "ae49a645",
   "metadata": {},
   "outputs": [
    {
     "data": {
      "text/plain": [
       "dict_items([('no', ['normal']), ('dos', ['back', 'land', 'neptune', 'pod', 'smurf', 'teardrop', 'apache2', 'udpstorm', 'processtable', 'mailbomb']), ('probe', ['satan', 'ipsweep', 'nmap', 'portsweep', 'mscan', 'saint']), ('r2l', ['guess_passwd', 'ftp_write', 'imap', 'phf', 'multihop', 'warezmaster', 'warezclient', 'spy', 'xlock', 'xsnoop', 'snmpguess', 'snmpgetattack', 'httptunnel', 'sendmail', 'named']), ('u2r', ['rootkit', 'buffer_overflow', 'loadmodule', 'perl', 'sqlattack', 'xterm', 'ps'])])"
      ]
     },
     "execution_count": 69,
     "metadata": {},
     "output_type": "execute_result"
    }
   ],
   "source": [
    "# assign attack types to 4 categories + 'normal' and create a new colum attack_categories \n",
    "\n",
    "attack_categories = {\n",
    "    \"no\": [\"normal\"],\n",
    "    \"dos\": [\"back\", \"land\", \"neptune\", \"pod\", \"smurf\", \"teardrop\", \"apache2\", \"udpstorm\", \"processtable\", \"mailbomb\"],\n",
    "    \"probe\" : [\"satan\", \"ipsweep\", \"nmap\", \"portsweep\", \"mscan\", \"saint\"], \n",
    "    \"r2l\": [\"guess_passwd\", \"ftp_write\", \"imap\", \"phf\", \"multihop\", \"warezmaster\", \"warezclient\", \"spy\", \"xlock\", \"xsnoop\", \"snmpguess\", \"snmpgetattack\", \"httptunnel\", \"sendmail\", \"named\"],\n",
    "    \"u2r\" : [\"rootkit\", \"buffer_overflow\", \"loadmodule\", \"perl\", \"sqlattack\", \"xterm\", \"ps\"],\n",
    "    }\n",
    "\n",
    "# using dict comprehension\n",
    "mapping = {cat: type for type, cats in attack_categories.items() for cat in cats}\n"
   ]
  },
  {
   "cell_type": "code",
   "execution_count": null,
   "id": "9bee8dc7",
   "metadata": {},
   "outputs": [
    {
     "data": {
      "text/html": [
       "<div>\n",
       "<style scoped>\n",
       "    .dataframe tbody tr th:only-of-type {\n",
       "        vertical-align: middle;\n",
       "    }\n",
       "\n",
       "    .dataframe tbody tr th {\n",
       "        vertical-align: top;\n",
       "    }\n",
       "\n",
       "    .dataframe thead th {\n",
       "        text-align: right;\n",
       "    }\n",
       "</style>\n",
       "<table border=\"1\" class=\"dataframe\">\n",
       "  <thead>\n",
       "    <tr style=\"text-align: right;\">\n",
       "      <th></th>\n",
       "      <th>duration</th>\n",
       "      <th>protocol_type</th>\n",
       "      <th>service</th>\n",
       "      <th>flag</th>\n",
       "      <th>src_bytes</th>\n",
       "      <th>dst_bytes</th>\n",
       "      <th>land</th>\n",
       "      <th>wrong_fragment</th>\n",
       "      <th>urgent</th>\n",
       "      <th>hot</th>\n",
       "      <th>...</th>\n",
       "      <th>dst_host_diff_srv_rate</th>\n",
       "      <th>dst_host_same_src_port_rate</th>\n",
       "      <th>dst_host_srv_diff_host_rate</th>\n",
       "      <th>dst_host_serror_rate</th>\n",
       "      <th>dst_host_srv_serror_rate</th>\n",
       "      <th>dst_host_rerror_rate</th>\n",
       "      <th>dst_host_srv_rerror_rate</th>\n",
       "      <th>attack_type</th>\n",
       "      <th>difficulty_level</th>\n",
       "      <th>attack_category</th>\n",
       "    </tr>\n",
       "  </thead>\n",
       "  <tbody>\n",
       "    <tr>\n",
       "      <th>0</th>\n",
       "      <td>0</td>\n",
       "      <td>tcp</td>\n",
       "      <td>ftp_data</td>\n",
       "      <td>SF</td>\n",
       "      <td>491</td>\n",
       "      <td>0</td>\n",
       "      <td>0</td>\n",
       "      <td>0</td>\n",
       "      <td>0</td>\n",
       "      <td>0</td>\n",
       "      <td>...</td>\n",
       "      <td>0.03</td>\n",
       "      <td>0.17</td>\n",
       "      <td>0.00</td>\n",
       "      <td>0.00</td>\n",
       "      <td>0.00</td>\n",
       "      <td>0.05</td>\n",
       "      <td>0.00</td>\n",
       "      <td>normal</td>\n",
       "      <td>20</td>\n",
       "      <td>no</td>\n",
       "    </tr>\n",
       "    <tr>\n",
       "      <th>1</th>\n",
       "      <td>0</td>\n",
       "      <td>udp</td>\n",
       "      <td>other</td>\n",
       "      <td>SF</td>\n",
       "      <td>146</td>\n",
       "      <td>0</td>\n",
       "      <td>0</td>\n",
       "      <td>0</td>\n",
       "      <td>0</td>\n",
       "      <td>0</td>\n",
       "      <td>...</td>\n",
       "      <td>0.60</td>\n",
       "      <td>0.88</td>\n",
       "      <td>0.00</td>\n",
       "      <td>0.00</td>\n",
       "      <td>0.00</td>\n",
       "      <td>0.00</td>\n",
       "      <td>0.00</td>\n",
       "      <td>normal</td>\n",
       "      <td>15</td>\n",
       "      <td>no</td>\n",
       "    </tr>\n",
       "    <tr>\n",
       "      <th>2</th>\n",
       "      <td>0</td>\n",
       "      <td>tcp</td>\n",
       "      <td>private</td>\n",
       "      <td>S0</td>\n",
       "      <td>0</td>\n",
       "      <td>0</td>\n",
       "      <td>0</td>\n",
       "      <td>0</td>\n",
       "      <td>0</td>\n",
       "      <td>0</td>\n",
       "      <td>...</td>\n",
       "      <td>0.05</td>\n",
       "      <td>0.00</td>\n",
       "      <td>0.00</td>\n",
       "      <td>1.00</td>\n",
       "      <td>1.00</td>\n",
       "      <td>0.00</td>\n",
       "      <td>0.00</td>\n",
       "      <td>neptune</td>\n",
       "      <td>19</td>\n",
       "      <td>dos</td>\n",
       "    </tr>\n",
       "    <tr>\n",
       "      <th>3</th>\n",
       "      <td>0</td>\n",
       "      <td>tcp</td>\n",
       "      <td>http</td>\n",
       "      <td>SF</td>\n",
       "      <td>232</td>\n",
       "      <td>8153</td>\n",
       "      <td>0</td>\n",
       "      <td>0</td>\n",
       "      <td>0</td>\n",
       "      <td>0</td>\n",
       "      <td>...</td>\n",
       "      <td>0.00</td>\n",
       "      <td>0.03</td>\n",
       "      <td>0.04</td>\n",
       "      <td>0.03</td>\n",
       "      <td>0.01</td>\n",
       "      <td>0.00</td>\n",
       "      <td>0.01</td>\n",
       "      <td>normal</td>\n",
       "      <td>21</td>\n",
       "      <td>no</td>\n",
       "    </tr>\n",
       "    <tr>\n",
       "      <th>4</th>\n",
       "      <td>0</td>\n",
       "      <td>tcp</td>\n",
       "      <td>http</td>\n",
       "      <td>SF</td>\n",
       "      <td>199</td>\n",
       "      <td>420</td>\n",
       "      <td>0</td>\n",
       "      <td>0</td>\n",
       "      <td>0</td>\n",
       "      <td>0</td>\n",
       "      <td>...</td>\n",
       "      <td>0.00</td>\n",
       "      <td>0.00</td>\n",
       "      <td>0.00</td>\n",
       "      <td>0.00</td>\n",
       "      <td>0.00</td>\n",
       "      <td>0.00</td>\n",
       "      <td>0.00</td>\n",
       "      <td>normal</td>\n",
       "      <td>21</td>\n",
       "      <td>no</td>\n",
       "    </tr>\n",
       "  </tbody>\n",
       "</table>\n",
       "<p>5 rows × 44 columns</p>\n",
       "</div>"
      ],
      "text/plain": [
       "   duration protocol_type   service flag  src_bytes  dst_bytes land  \\\n",
       "0         0           tcp  ftp_data   SF        491          0    0   \n",
       "1         0           udp     other   SF        146          0    0   \n",
       "2         0           tcp   private   S0          0          0    0   \n",
       "3         0           tcp      http   SF        232       8153    0   \n",
       "4         0           tcp      http   SF        199        420    0   \n",
       "\n",
       "   wrong_fragment  urgent  hot  ...  dst_host_diff_srv_rate  \\\n",
       "0               0       0    0  ...                    0.03   \n",
       "1               0       0    0  ...                    0.60   \n",
       "2               0       0    0  ...                    0.05   \n",
       "3               0       0    0  ...                    0.00   \n",
       "4               0       0    0  ...                    0.00   \n",
       "\n",
       "  dst_host_same_src_port_rate  dst_host_srv_diff_host_rate  \\\n",
       "0                        0.17                         0.00   \n",
       "1                        0.88                         0.00   \n",
       "2                        0.00                         0.00   \n",
       "3                        0.03                         0.04   \n",
       "4                        0.00                         0.00   \n",
       "\n",
       "  dst_host_serror_rate dst_host_srv_serror_rate  dst_host_rerror_rate  \\\n",
       "0                 0.00                     0.00                  0.05   \n",
       "1                 0.00                     0.00                  0.00   \n",
       "2                 1.00                     1.00                  0.00   \n",
       "3                 0.03                     0.01                  0.00   \n",
       "4                 0.00                     0.00                  0.00   \n",
       "\n",
       "   dst_host_srv_rerror_rate  attack_type  difficulty_level  attack_category  \n",
       "0                      0.00       normal                20               no  \n",
       "1                      0.00       normal                15               no  \n",
       "2                      0.00      neptune                19              dos  \n",
       "3                      0.01       normal                21               no  \n",
       "4                      0.00       normal                21               no  \n",
       "\n",
       "[5 rows x 44 columns]"
      ]
     },
     "execution_count": 71,
     "metadata": {},
     "output_type": "execute_result"
    }
   ],
   "source": [
    "# add new cols to df\n",
    "train_data[\"attack_category\"]= train_data.attack_type.map(mapping)  # 5 attack ategories (instead of 23)\n",
    "train_data[\"attack\"]= [0 if x == \"normal\" else 1 for x in train_data.attack_type] # binary target variable (attack 1, no attack 0)\n",
    "train_data.head()"
   ]
  },
  {
   "cell_type": "code",
   "execution_count": null,
   "id": "26167cdb",
   "metadata": {},
   "outputs": [
    {
     "name": "stdout",
     "output_type": "stream",
     "text": [
      "<class 'pandas.core.frame.DataFrame'>\n",
      "RangeIndex: 125973 entries, 0 to 125972\n",
      "Data columns (total 45 columns):\n",
      " #   Column                       Non-Null Count   Dtype   \n",
      "---  ------                       --------------   -----   \n",
      " 0   duration                     125973 non-null  int64   \n",
      " 1   protocol_type                125973 non-null  category\n",
      " 2   service                      125973 non-null  category\n",
      " 3   flag                         125973 non-null  category\n",
      " 4   src_bytes                    125973 non-null  int64   \n",
      " 5   dst_bytes                    125973 non-null  int64   \n",
      " 6   land                         125973 non-null  category\n",
      " 7   wrong_fragment               125973 non-null  int64   \n",
      " 8   urgent                       125973 non-null  int64   \n",
      " 9   hot                          125973 non-null  int64   \n",
      " 10  num_failed_logins            125973 non-null  int64   \n",
      " 11  logged_in                    125973 non-null  category\n",
      " 12  num_compromised              125973 non-null  int64   \n",
      " 13  root_shell                   125973 non-null  category\n",
      " 14  su_attempted                 125973 non-null  category\n",
      " 15  num_root                     125973 non-null  int64   \n",
      " 16  num_file_creations           125973 non-null  int64   \n",
      " 17  num_shells                   125973 non-null  int64   \n",
      " 18  num_access_files             125973 non-null  int64   \n",
      " 19  num_outbound_cmds            125973 non-null  int64   \n",
      " 20  is_host_login                125973 non-null  category\n",
      " 21  is_guest_login               125973 non-null  category\n",
      " 22  count                        125973 non-null  int64   \n",
      " 23  srv_count                    125973 non-null  int64   \n",
      " 24  serror_rate                  125973 non-null  float64 \n",
      " 25  srv_serror_rate              125973 non-null  float64 \n",
      " 26  rerror_rate                  125973 non-null  float64 \n",
      " 27  srv_rerror_rate              125973 non-null  float64 \n",
      " 28  same_srv_rate                125973 non-null  float64 \n",
      " 29  diff_srv_rate                125973 non-null  float64 \n",
      " 30  srv_diff_host_rate           125973 non-null  float64 \n",
      " 31  dst_host_count               125973 non-null  int64   \n",
      " 32  dst_host_srv_count           125973 non-null  int64   \n",
      " 33  dst_host_same_srv_rate       125973 non-null  float64 \n",
      " 34  dst_host_diff_srv_rate       125973 non-null  float64 \n",
      " 35  dst_host_same_src_port_rate  125973 non-null  float64 \n",
      " 36  dst_host_srv_diff_host_rate  125973 non-null  float64 \n",
      " 37  dst_host_serror_rate         125973 non-null  float64 \n",
      " 38  dst_host_srv_serror_rate     125973 non-null  float64 \n",
      " 39  dst_host_rerror_rate         125973 non-null  float64 \n",
      " 40  dst_host_srv_rerror_rate     125973 non-null  float64 \n",
      " 41  attack_type                  125973 non-null  category\n",
      " 42  difficulty_level             125973 non-null  int64   \n",
      " 43  attack_category              125973 non-null  category\n",
      " 44  attack                       125973 non-null  category\n",
      "dtypes: category(12), float64(15), int64(18)\n",
      "memory usage: 33.2 MB\n"
     ]
    }
   ],
   "source": [
    "# convert newl cols to categories\n",
    "# convert to str\n",
    "train_data = convert_column_type(train_data, \"attack_category\", str)\n",
    "\n",
    "# convert bool to int\n",
    "train_data = convert_column_type(train_data, \"attack\", int)\n",
    "\n",
    "# convert to category\n",
    "train_data = convert_column_type(train_data, [\"attack_category\" , \"attack\"], 'category') \n",
    "\n",
    "train_data.info()"
   ]
  },
  {
   "cell_type": "code",
   "execution_count": 116,
   "id": "d3fb8dd7",
   "metadata": {},
   "outputs": [
    {
     "data": {
      "text/html": [
       "<div>\n",
       "<style scoped>\n",
       "    .dataframe tbody tr th:only-of-type {\n",
       "        vertical-align: middle;\n",
       "    }\n",
       "\n",
       "    .dataframe tbody tr th {\n",
       "        vertical-align: top;\n",
       "    }\n",
       "\n",
       "    .dataframe thead th {\n",
       "        text-align: right;\n",
       "    }\n",
       "</style>\n",
       "<table border=\"1\" class=\"dataframe\">\n",
       "  <thead>\n",
       "    <tr style=\"text-align: right;\">\n",
       "      <th></th>\n",
       "      <th>attack_category</th>\n",
       "      <th>proportion</th>\n",
       "    </tr>\n",
       "  </thead>\n",
       "  <tbody>\n",
       "    <tr>\n",
       "      <th>0</th>\n",
       "      <td>no</td>\n",
       "      <td>0.534583</td>\n",
       "    </tr>\n",
       "    <tr>\n",
       "      <th>1</th>\n",
       "      <td>dos</td>\n",
       "      <td>0.364578</td>\n",
       "    </tr>\n",
       "    <tr>\n",
       "      <th>2</th>\n",
       "      <td>probe</td>\n",
       "      <td>0.092528</td>\n",
       "    </tr>\n",
       "    <tr>\n",
       "      <th>3</th>\n",
       "      <td>r2l</td>\n",
       "      <td>0.007899</td>\n",
       "    </tr>\n",
       "    <tr>\n",
       "      <th>4</th>\n",
       "      <td>u2r</td>\n",
       "      <td>0.000413</td>\n",
       "    </tr>\n",
       "  </tbody>\n",
       "</table>\n",
       "</div>"
      ],
      "text/plain": [
       "  attack_category  proportion\n",
       "0              no    0.534583\n",
       "1             dos    0.364578\n",
       "2           probe    0.092528\n",
       "3             r2l    0.007899\n",
       "4             u2r    0.000413"
      ]
     },
     "execution_count": 116,
     "metadata": {},
     "output_type": "execute_result"
    }
   ],
   "source": [
    "df_attack_cat = train_data.attack_category.value_counts(normalize=True).reset_index()\n",
    "df_attack_cat"
   ]
  },
  {
   "cell_type": "code",
   "execution_count": 118,
   "id": "207a50a9",
   "metadata": {},
   "outputs": [
    {
     "data": {
      "image/png": "[encoded data removed]",
      "text/plain": [
       "<Figure size 640x480 with 1 Axes>"
      ]
     },
     "metadata": {},
     "output_type": "display_data"
    }
   ],
   "source": [
    "plt.pie(df_attack_cat.proportion, \n",
    "        labels = df_attack_cat.attack_category,\n",
    "        #explode = pie_pieces,\n",
    "        autopct='%1.2f%%',          # format and display percentages\n",
    "        #colors=['steelblue', '#E42A38'],\n",
    "            )\n",
    "    \n",
    "plt.title('Distribution of attack type categories in the training data')\n",
    "plt.show()"
   ]
  }
 ],
 "metadata": {
  "kernelspec": {
   "display_name": ".venv",
   "language": "python",
   "name": "python3"
  },
  "language_info": {
   "codemirror_mode": {
    "name": "ipython",
    "version": 3
   },
   "file_extension": ".py",
   "mimetype": "text/x-python",
   "name": "python",
   "nbconvert_exporter": "python",
   "pygments_lexer": "ipython3",
   "version": "3.11.3"
  }
 },
 "nbformat": 4,
 "nbformat_minor": 5
}

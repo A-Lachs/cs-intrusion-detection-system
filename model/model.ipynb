{
 "cells": [
  {
   "cell_type": "markdown",
   "id": "ff5df927",
   "metadata": {},
   "source": [
    "# 1. Import libraries and data "
   ]
  },
  {
   "cell_type": "code",
   "execution_count": 16,
   "id": "b6b651d6",
   "metadata": {},
   "outputs": [],
   "source": [
    "import sys\n",
    "import os\n",
    "import pandas as pd\n",
    "import numpy as np"
   ]
  },
  {
   "cell_type": "code",
   "execution_count": null,
   "id": "ddae8280",
   "metadata": {},
   "outputs": [],
   "source": [
    "# import functions from the project\n",
    "\n",
    "#get_path = os.path.abspath(\"\")\n",
    "project_path = 'd:\\\\PYTHON\\\\CS_Bootcamp\\\\programs\\\\cs-intrusion-detection-system'\n",
    "\n",
    "# add path to load own functions from .py files in scrips folder\n",
    "sys.path.insert(0, project_path + '\\scripts')\n",
    "\n",
    "from preprocessing import *\n",
    "from plotting import *"
   ]
  },
  {
   "cell_type": "code",
   "execution_count": null,
   "id": "b5d76721",
   "metadata": {},
   "outputs": [],
   "source": [
    "# get data \n",
    "file_name_train_data = \"KDDTrain+.txt\"\n",
    "file_name_test_tata = \"KDDTest+.txt\"\n",
    "\n",
    "# column names\n",
    "column_names = [\n",
    "    \"duration\",\n",
    "    \"protocol_type\",\n",
    "    \"service\",\n",
    "    \"flag\",\n",
    "    \"src_bytes\",\n",
    "    \"dst_bytes\",\n",
    "    \"land\",\n",
    "    \"wrong_fragment\",\n",
    "    \"urgent\",\n",
    "    \"hot\",\n",
    "    \"num_failed_logins\",\n",
    "    \"logged_in\",\n",
    "    \"num_compromised\",\n",
    "    \"root_shell\",\n",
    "    \"su_attempted\",\n",
    "    \"num_root\",\n",
    "    \"num_file_creations\",\n",
    "    \"num_shells\",\n",
    "    \"num_access_files\",\n",
    "    \"num_outbound_cmds\",\n",
    "    \"is_host_login\",\n",
    "    \"is_guest_login\",\n",
    "    \"count\",\n",
    "    \"srv_count\",\n",
    "    \"serror_rate\",\n",
    "    \"srv_serror_rate\",\n",
    "    \"rerror_rate\",\n",
    "    \"srv_rerror_rate\",\n",
    "    \"same_srv_rate\",\n",
    "    \"diff_srv_rate\",\n",
    "    \"srv_diff_host_rate\",\n",
    "    \"dst_host_count\",\n",
    "    \"dst_host_srv_count\",\n",
    "    \"dst_host_same_srv_rate\",\n",
    "    \"dst_host_diff_srv_rate\",\n",
    "    \"dst_host_same_src_port_rate\",\n",
    "    \"dst_host_srv_diff_host_rate\",\n",
    "    \"dst_host_serror_rate\",\n",
    "    \"dst_host_srv_serror_rate\",\n",
    "    \"dst_host_rerror_rate\",\n",
    "    \"dst_host_srv_rerror_rate\",\n",
    "    \"attack_type\",\n",
    "    \"difficulty_level\"\n",
    "]\n",
    "\n",
    "# load data as df\n",
    "train_data = pd.read_csv(\"../data/\"+ file_name_train_data,  names=column_names)\n",
    "test_data = pd.read_csv(\"../data/\"+ file_name_test_tata, names=column_names)\n",
    "\n",
    "print(train_data.shape)\n",
    "print(test_data.shape)"
   ]
  },
  {
   "cell_type": "markdown",
   "id": "cd18ccf2",
   "metadata": {},
   "source": [
    "# Preprocessing\n",
    "1. Recode categorical features to category\n",
    "2. Recode numerical features to binary category (based on EDA)\n",
    "3. Recode numerical features to three categories (based on EDA)\n",
    "4. Create binary target variable (attack: 0,1)\n",
    "\n",
    "- Other numerical features are not further processed (**NUM_FEATURES**)\n",
    "- all processed categorical features are added to **CAT_FEATURES**\n"
   ]
  },
  {
   "cell_type": "code",
   "execution_count": null,
   "id": "3a8cbfbf",
   "metadata": {},
   "outputs": [],
   "source": [
    "# features to process \n",
    "NUM_FEATURES = set([\n",
    "    'srv_serror_rate',\n",
    "    'same_srv_rate',\n",
    "    'dst_host_same_srv_rate',\n",
    "    'dst_host_srv_diff_host_rate',\n",
    "    'dst_host_count',\n",
    "    'duration',\n",
    "    'src_bytes',\n",
    "    'dst_host_diff_srv_rate',\n",
    "    'dst_host_srv_serror_rate',\n",
    "    'dst_host_serror_rate',\n",
    "    'srv_count',\n",
    "    'dst_host_srv_rerror_rate',\n",
    "    'dst_bytes',\n",
    "    'dst_host_srv_count',\n",
    "    'serror_rate',\n",
    "    'diff_srv_rate',\n",
    "    'dst_host_same_src_port_rate',\n",
    "    'srv_diff_host_rate',\n",
    "    'srv_rerror_rate',\n",
    "    'dst_host_rerror_rate',\n",
    "    'rerror_rate',\n",
    "    'count'])\n",
    "\n",
    "CAT_FEATURES = set(['logged_in', 'root_shell', 'is_guest_login', 'land', 'flag', 'difficulty_level', 'protocol_type', 'service'])\n",
    "\n",
    "# features for recoding\n",
    "to_recode_2_cat = ['num_shells',\n",
    "                    'urgent',\n",
    "                    'num_root',           # --> works with threshold .99\n",
    "                    'num_file_creations',\n",
    "                    'num_failed_logins',\n",
    "                    'su_attempted',\n",
    "                    'num_access_files',\n",
    "                    'wrong_fragment',     # --> works with threshold .99\n",
    "                    ]\n",
    "\n",
    "# unfortunatelly hardcoded boundaries for now: \n",
    "to_recode_3_cat = {'num_compromised': 10, \n",
    "                       'hot': 5} \n",
    "condition_labels = [\"none\", \"low\", \"high\"] \n",
    "\n",
    "\n",
    "# recode to binary target variable (attack vs no attack)\n",
    "target_feature = \"attack_type\" "
   ]
  },
  {
   "cell_type": "code",
   "execution_count": null,
   "id": "e5960a14",
   "metadata": {},
   "outputs": [],
   "source": [
    "# 1. convert categorical features to categories \n",
    "for feature in list(CAT_FEATURES):\n",
    "    train_data = convert_column_type(train_data, feature, 'category' )\n",
    "    test_data = convert_column_type(test_data, feature, 'category' )\n"
   ]
  },
  {
   "cell_type": "code",
   "execution_count": null,
   "id": "2ed381b2",
   "metadata": {},
   "outputs": [],
   "source": [
    "# 2. recode numerical to binary categorical features \n",
    "for feature in to_recode_2_cat:\n",
    "    new_feature_name = feature + \"_cat\"\n",
    "    recode_to_binary_feature(train_data, feature, new_feature_name)\n",
    "    recode_to_binary_feature(test_data, feature, new_feature_name, threshold=0) # don't use the threshold here\n",
    "\n",
    "    # add recoded features to CAT_FEATURES \n",
    "    if is_categorical_dtype(train_data, new_feature_name) & is_categorical_dtype(\n",
    "        test_data, new_feature_name):\n",
    "        # add only when both successfully transformed \n",
    "        CAT_FEATURES.add(new_feature_name)\n",
    "    else:\n",
    "        print(f\"Feature {new_feature_name} not added, check processing.\")"
   ]
  },
  {
   "cell_type": "code",
   "execution_count": null,
   "id": "85f2cc60",
   "metadata": {},
   "outputs": [],
   "source": [
    "# 3. recode numerical features to 3 category features\n",
    "\n",
    "for feature, bound in to_recode_3_cat.items(): \n",
    "    cond_train = get_conditions(train_data, feature, bound)\n",
    "    cond_test = get_conditions(test_data, feature, bound)\n",
    "    new_feature_name = feature +\"_cat\"\n",
    "\n",
    "    recode_to_categories(train_data, new_feature_name, cond_train, condition_labels)\n",
    "    recode_to_categories(test_data, new_feature_name, cond_test, condition_labels)\n",
    "\n",
    "    # add recoded features to CAT_FEATURES \n",
    "    if is_categorical_dtype(train_data, new_feature_name) & is_categorical_dtype(\n",
    "        test_data, new_feature_name):\n",
    "        # add only when both successfully transformed \n",
    "        CAT_FEATURES.add(new_feature_name)\n",
    "    else:\n",
    "        print(f\"Feature {new_feature_name} not added, check processing.\")\n"
   ]
  },
  {
   "cell_type": "code",
   "execution_count": null,
   "id": "49a47cd1",
   "metadata": {},
   "outputs": [
    {
     "name": "stdout",
     "output_type": "stream",
     "text": [
      "New target variable created succsessfully.\n"
     ]
    }
   ],
   "source": [
    "# 4. recode target feature \n",
    "\n",
    "recode_binary_target_feature(train_data, target_feature, \"attack\")\n",
    "recode_binary_target_feature(test_data, target_feature, \"attack\")\n",
    "\n",
    "if is_categorical_dtype(train_data, \"attack\") & is_categorical_dtype(\n",
    "        test_data, \"attack\"):\n",
    "    print(\"New target variable created succsessfully.\")\n",
    "else:\n",
    "    print(\"Something went wrong with the target variable!\")\n",
    "\n"
   ]
  },
  {
   "cell_type": "code",
   "execution_count": 29,
   "id": "3864b9ac",
   "metadata": {},
   "outputs": [
    {
     "name": "stdout",
     "output_type": "stream",
     "text": [
      "There are 22 numerical and 18 categorical features.\n"
     ]
    }
   ],
   "source": [
    "# we have now done the preprocessing for all features\n",
    "numerical_features = list(NUM_FEATURES)\n",
    "categorical_features = list(CAT_FEATURES)\n",
    "\n",
    "print(f\"There are {len(numerical_features)} numerical and {len(categorical_features)} categorical features.\")"
   ]
  }
 ],
 "metadata": {
  "kernelspec": {
   "display_name": ".venv",
   "language": "python",
   "name": "python3"
  },
  "language_info": {
   "codemirror_mode": {
    "name": "ipython",
    "version": 3
   },
   "file_extension": ".py",
   "mimetype": "text/x-python",
   "name": "python",
   "nbconvert_exporter": "python",
   "pygments_lexer": "ipython3",
   "version": "3.11.3"
  }
 },
 "nbformat": 4,
 "nbformat_minor": 5
}

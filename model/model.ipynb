{
 "cells": [
  {
   "cell_type": "markdown",
   "id": "ff5df927",
   "metadata": {},
   "source": [
    "# 1. Import libraries and data "
   ]
  },
  {
   "cell_type": "code",
   "execution_count": 1,
   "id": "b6b651d6",
   "metadata": {},
   "outputs": [],
   "source": [
    "import sys\n",
    "import os\n",
    "import pandas as pd\n",
    "import numpy as np\n",
    "import random\n",
    "import seaborn as sns\n",
    "\n",
    "from sklearn.metrics import confusion_matrix, classification_report"
   ]
  },
  {
   "cell_type": "code",
   "execution_count": 2,
   "id": "ddae8280",
   "metadata": {},
   "outputs": [],
   "source": [
    "# import functions from the project\n",
    "\n",
    "#get_path = os.path.abspath(\"\")\n",
    "project_path = 'd:\\\\PYTHON\\\\CS_Bootcamp\\\\programs\\\\cs-intrusion-detection-system'\n",
    "\n",
    "# add path to load own functions from .py files in scrips folder\n",
    "sys.path.insert(0, project_path + '\\scripts')\n",
    "\n",
    "from preprocessing import *\n",
    "from plotting import *"
   ]
  },
  {
   "cell_type": "code",
   "execution_count": 3,
   "id": "b5d76721",
   "metadata": {},
   "outputs": [
    {
     "name": "stdout",
     "output_type": "stream",
     "text": [
      "(125973, 43)\n",
      "(22544, 43)\n"
     ]
    }
   ],
   "source": [
    "# get data \n",
    "file_name_train_data = \"KDDTrain+.txt\"\n",
    "file_name_test_tata = \"KDDTest+.txt\"\n",
    "\n",
    "# column names\n",
    "column_names = [\n",
    "    \"duration\",\n",
    "    \"protocol_type\",\n",
    "    \"service\",\n",
    "    \"flag\",\n",
    "    \"src_bytes\",\n",
    "    \"dst_bytes\",\n",
    "    \"land\",\n",
    "    \"wrong_fragment\",\n",
    "    \"urgent\",\n",
    "    \"hot\",\n",
    "    \"num_failed_logins\",\n",
    "    \"logged_in\",\n",
    "    \"num_compromised\",\n",
    "    \"root_shell\",\n",
    "    \"su_attempted\",\n",
    "    \"num_root\",\n",
    "    \"num_file_creations\",\n",
    "    \"num_shells\",\n",
    "    \"num_access_files\",\n",
    "    \"num_outbound_cmds\",\n",
    "    \"is_host_login\",\n",
    "    \"is_guest_login\",\n",
    "    \"count\",\n",
    "    \"srv_count\",\n",
    "    \"serror_rate\",\n",
    "    \"srv_serror_rate\",\n",
    "    \"rerror_rate\",\n",
    "    \"srv_rerror_rate\",\n",
    "    \"same_srv_rate\",\n",
    "    \"diff_srv_rate\",\n",
    "    \"srv_diff_host_rate\",\n",
    "    \"dst_host_count\",\n",
    "    \"dst_host_srv_count\",\n",
    "    \"dst_host_same_srv_rate\",\n",
    "    \"dst_host_diff_srv_rate\",\n",
    "    \"dst_host_same_src_port_rate\",\n",
    "    \"dst_host_srv_diff_host_rate\",\n",
    "    \"dst_host_serror_rate\",\n",
    "    \"dst_host_srv_serror_rate\",\n",
    "    \"dst_host_rerror_rate\",\n",
    "    \"dst_host_srv_rerror_rate\",\n",
    "    \"attack_type\",\n",
    "    \"difficulty_level\"\n",
    "]\n",
    "\n",
    "# load data as df\n",
    "train_data = pd.read_csv(\"../data/\"+ file_name_train_data,  names=column_names)\n",
    "test_data = pd.read_csv(\"../data/\"+ file_name_test_tata, names=column_names)\n",
    "\n",
    "print(train_data.shape)\n",
    "print(test_data.shape)"
   ]
  },
  {
   "cell_type": "markdown",
   "id": "cd18ccf2",
   "metadata": {},
   "source": [
    "# 2. Preprocessing\n",
    "1. Recode categorical features to category\n",
    "2. Recode numerical features to binary category (based on EDA)\n",
    "3. Recode numerical features to three categories (based on EDA)\n",
    "4. Create binary target variable (attack: 0,1)\n",
    "\n",
    "- Other numerical features are not further processed (**NUM_FEATURES**)\n",
    "- all processed categorical features are added to **CAT_FEATURES**\n"
   ]
  },
  {
   "cell_type": "code",
   "execution_count": 4,
   "id": "3a8cbfbf",
   "metadata": {},
   "outputs": [],
   "source": [
    "# features to process \n",
    "NUM_FEATURES = set([\n",
    "    'srv_serror_rate',\n",
    "    'same_srv_rate',\n",
    "    'dst_host_same_srv_rate',\n",
    "    'dst_host_srv_diff_host_rate',\n",
    "    'dst_host_count',\n",
    "    'duration',\n",
    "    'src_bytes',\n",
    "    'dst_host_diff_srv_rate',\n",
    "    'dst_host_srv_serror_rate',\n",
    "    'dst_host_serror_rate',\n",
    "    'srv_count',\n",
    "    'dst_host_srv_rerror_rate',\n",
    "    'dst_bytes',\n",
    "    'dst_host_srv_count',\n",
    "    'serror_rate',\n",
    "    'diff_srv_rate',\n",
    "    'dst_host_same_src_port_rate',\n",
    "    'srv_diff_host_rate',\n",
    "    'srv_rerror_rate',\n",
    "    'dst_host_rerror_rate',\n",
    "    'rerror_rate',\n",
    "    'count'])\n",
    "\n",
    "CAT_FEATURES = set(['logged_in', 'root_shell', 'is_guest_login', 'land', 'flag', 'difficulty_level', 'protocol_type', 'service'])\n",
    "\n",
    "# features for recoding\n",
    "to_recode_2_cat = ['num_shells',\n",
    "                    'urgent',\n",
    "                    'num_root',           # --> works with threshold .99\n",
    "                    'num_file_creations',\n",
    "                    'num_failed_logins',\n",
    "                    'su_attempted',\n",
    "                    'num_access_files',\n",
    "                    'wrong_fragment',     # --> works with threshold .99\n",
    "                    ]\n",
    "\n",
    "# unfortunatelly hardcoded boundaries for now: \n",
    "to_recode_3_cat = {'num_compromised': 10, \n",
    "                       'hot': 5} \n",
    "condition_labels = [\"none\", \"low\", \"high\"] \n",
    "\n",
    "\n",
    "# recode to binary target variable (attack vs no attack)\n",
    "target_feature = \"attack_type\" "
   ]
  },
  {
   "cell_type": "code",
   "execution_count": 5,
   "id": "e5960a14",
   "metadata": {},
   "outputs": [],
   "source": [
    "# 1. convert categorical features to categories \n",
    "for feature in list(CAT_FEATURES):\n",
    "    train_data = convert_column_type(train_data, feature, 'category' )\n",
    "    test_data = convert_column_type(test_data, feature, 'category' )\n"
   ]
  },
  {
   "cell_type": "code",
   "execution_count": 6,
   "id": "2ed381b2",
   "metadata": {},
   "outputs": [],
   "source": [
    "# 2. recode numerical to binary categorical features \n",
    "for feature in to_recode_2_cat:\n",
    "    new_feature_name = feature + \"_cat\"\n",
    "    recode_to_binary_feature(train_data, feature, new_feature_name)\n",
    "    recode_to_binary_feature(test_data, feature, new_feature_name, threshold=0) # don't use the threshold here\n",
    "\n",
    "    # add recoded features to CAT_FEATURES \n",
    "    if is_categorical_dtype(train_data, new_feature_name) & is_categorical_dtype(\n",
    "        test_data, new_feature_name):\n",
    "        # add only when both successfully transformed \n",
    "        CAT_FEATURES.add(new_feature_name)\n",
    "    else:\n",
    "        print(f\"Feature {new_feature_name} not added, check processing.\")"
   ]
  },
  {
   "cell_type": "code",
   "execution_count": 7,
   "id": "85f2cc60",
   "metadata": {},
   "outputs": [],
   "source": [
    "# 3. recode numerical features to 3 category features\n",
    "\n",
    "for feature, bound in to_recode_3_cat.items(): \n",
    "    cond_train = get_conditions(train_data, feature, bound)\n",
    "    cond_test = get_conditions(test_data, feature, bound)\n",
    "    new_feature_name = feature +\"_cat\"\n",
    "\n",
    "    recode_to_categories(train_data, new_feature_name, cond_train, condition_labels)\n",
    "    recode_to_categories(test_data, new_feature_name, cond_test, condition_labels)\n",
    "\n",
    "    # add recoded features to CAT_FEATURES \n",
    "    if is_categorical_dtype(train_data, new_feature_name) & is_categorical_dtype(\n",
    "        test_data, new_feature_name):\n",
    "        # add only when both successfully transformed \n",
    "        CAT_FEATURES.add(new_feature_name)\n",
    "    else:\n",
    "        print(f\"Feature {new_feature_name} not added, check processing.\")\n"
   ]
  },
  {
   "cell_type": "code",
   "execution_count": 8,
   "id": "49a47cd1",
   "metadata": {},
   "outputs": [
    {
     "name": "stdout",
     "output_type": "stream",
     "text": [
      "New target variable created succsessfully.\n"
     ]
    }
   ],
   "source": [
    "# 4. recode target feature \n",
    "\n",
    "recode_binary_target_feature(train_data, target_feature, \"attack\")\n",
    "recode_binary_target_feature(test_data, target_feature, \"attack\")\n",
    "\n",
    "if is_categorical_dtype(train_data, \"attack\") & is_categorical_dtype(\n",
    "        test_data, \"attack\"):\n",
    "    print(\"New target variable created succsessfully.\")\n",
    "else:\n",
    "    print(\"Something went wrong with the target variable!\")\n",
    "\n"
   ]
  },
  {
   "cell_type": "code",
   "execution_count": 9,
   "id": "3864b9ac",
   "metadata": {},
   "outputs": [
    {
     "name": "stdout",
     "output_type": "stream",
     "text": [
      "There are 22 numerical and 18 categorical features.\n"
     ]
    }
   ],
   "source": [
    "# we have now done the preprocessing for all features\n",
    "numerical_features = list(NUM_FEATURES)\n",
    "categorical_features = list(CAT_FEATURES)\n",
    "\n",
    "print(f\"There are {len(numerical_features)} numerical and {len(categorical_features)} categorical features.\")"
   ]
  },
  {
   "cell_type": "code",
   "execution_count": 10,
   "id": "bf88d323",
   "metadata": {},
   "outputs": [
    {
     "data": {
      "text/plain": [
       "['dst_host_srv_serror_rate',\n",
       " 'count',\n",
       " 'dst_host_serror_rate',\n",
       " 'dst_host_diff_srv_rate',\n",
       " 'diff_srv_rate',\n",
       " 'dst_host_same_src_port_rate',\n",
       " 'srv_count',\n",
       " 'srv_rerror_rate',\n",
       " 'dst_host_count',\n",
       " 'serror_rate',\n",
       " 'srv_serror_rate',\n",
       " 'dst_host_rerror_rate',\n",
       " 'dst_host_srv_diff_host_rate',\n",
       " 'dst_host_srv_rerror_rate',\n",
       " 'duration',\n",
       " 'srv_diff_host_rate',\n",
       " 'dst_host_srv_count',\n",
       " 'dst_host_same_srv_rate',\n",
       " 'dst_bytes',\n",
       " 'src_bytes',\n",
       " 'rerror_rate',\n",
       " 'same_srv_rate']"
      ]
     },
     "execution_count": 10,
     "metadata": {},
     "output_type": "execute_result"
    }
   ],
   "source": [
    "numerical_features"
   ]
  },
  {
   "cell_type": "code",
   "execution_count": 11,
   "id": "92df50a6",
   "metadata": {},
   "outputs": [],
   "source": [
    "# TODO: further export the preprocessing functionality"
   ]
  },
  {
   "cell_type": "code",
   "execution_count": 12,
   "id": "c4972a45",
   "metadata": {},
   "outputs": [
    {
     "name": "stdout",
     "output_type": "stream",
     "text": [
      "X_train dimensions: (125973, 40)\n",
      "X_test dimensions: (22544, 40)\n",
      "y_train dimensions: (125973,)\n",
      "y_test dimensions: (22544,)\n"
     ]
    }
   ],
   "source": [
    "# define data\n",
    "\n",
    "X_train = train_data[numerical_features + categorical_features]\n",
    "y_train = train_data[\"attack\"]\n",
    "\n",
    "X_test = test_data[numerical_features + categorical_features]\n",
    "y_test = test_data[\"attack\"]\n",
    "\n",
    "print('X_train dimensions:', X_train.shape)\n",
    "print('X_test dimensions:', X_test.shape)\n",
    "print('y_train dimensions:', y_train.shape)\n",
    "print('y_test dimensions:', y_test.shape)"
   ]
  },
  {
   "cell_type": "code",
   "execution_count": 13,
   "id": "07e53acd",
   "metadata": {},
   "outputs": [],
   "source": [
    "# define simple baseline models \n",
    "\n",
    "def model_genuine_prediction(data):\n",
    "    \"\"\" \n",
    "    Baseline model 1. \n",
    "    Always predict 'genuine' = 0 network traffic.\n",
    "    \"\"\"\n",
    "    return np.zeros(data.shape[0])\n",
    "\n",
    "def model_random_prediction(data):\n",
    "    \"\"\" \n",
    "    Baseline model 2.\n",
    "    Randomly predict 'malicious' = 1 or 'genuine' = 0 network traffic. \n",
    "    \"\"\"\n",
    "    return [random.randint(0 ,1) for _ in range(data.shape[0])]\n",
    "\n",
    "def model_risky_protocol_prediction(data):\n",
    "    \"\"\" \n",
    "    Baseline model 3.\n",
    "    When the protocol type is 'icmp' predict the network traffic is 'malicious' = 1.\n",
    "    EDA revealed that over 80% of traffic with 'icmp protocol type was malicious.\n",
    "    \"\"\"\n",
    "    return [1 if protocol == 'icmp' else 0 for protocol in data[\"protocol_type\"]]\n"
   ]
  },
  {
   "cell_type": "code",
   "execution_count": 14,
   "id": "4bd89137",
   "metadata": {},
   "outputs": [],
   "source": [
    "# make predictions usinge baseline models \n",
    "m1_train_pred = model_genuine_prediction(X_train)\n",
    "m1_test_pred = model_genuine_prediction(X_test)\n",
    "\n",
    "m2_train_pred = model_random_prediction(X_train)\n",
    "m2_test_pred = model_random_prediction(X_test)\n",
    "\n",
    "m3_train_pred = model_risky_protocol_prediction(X_train)\n",
    "m3_test_pred = model_risky_protocol_prediction(X_test)\n"
   ]
  },
  {
   "cell_type": "code",
   "execution_count": null,
   "id": "a2d86723",
   "metadata": {},
   "outputs": [],
   "source": [
    "# evaluation \n",
    "def model_evaluation(y_test, y_pred): \n",
    "    # quick and dirty evaluation output for now \n",
    "    # prevent classification report warning with adding 'zero_division=0', \n",
    "    # in case model does not predict one class -> 0 instead of NaN\n",
    "    print(\"------\"*10)\n",
    "    print(\"Classification Report: \\n\", \n",
    "          classification_report(y_test, y_pred))\n",
    "    print(\"------\"*10)\n",
    "    cr = classification_report(y_test, y_pred, output_dict=True, zero_division=0)\n",
    "    #f1_score = cr['macro avg']['f1-score'] * 100\n",
    "    #print(f\"F1_Score: {round(f1_score,0)}\") \n",
    "    return cr\n",
    "\n",
    "def plot_confusion_matrix(y_test, y_pred):\n",
    "   \n",
    "    # get matrix\n",
    "    cf_matrix = confusion_matrix(y_test, y_pred)\n",
    "    # create labels\n",
    "    group_names = [\"TN\", \"FP\", \"FN\", \"TP\" ] #v1\n",
    "    gc = [value for value in cf_matrix.flatten()]\n",
    "    group_counts = [\"{0:0.0f}\".format(value) for value in cf_matrix.flatten()] # v2\n",
    "    group_percentages = [\"{0:.2%}\".format(value) for value in cf_matrix.flatten()/np.sum(cf_matrix)] #v3\n",
    "    labels = [f\"{v1}\\n{v2}\\n{v3} \"for v1, v2, v3 in zip(group_names,group_counts,group_percentages)]\n",
    "    # same shape as cf matrix\n",
    "    labels = np.asarray(labels).reshape(2,2)\n",
    "    \n",
    "    # dict to calculate metrics \n",
    "    v_dict = dict(zip(group_names,gc))\n",
    "    \n",
    "    # accuracy\n",
    "    accuracy = (v_dict[\"TP\"] + v_dict[\"TN\"]) / (v_dict[\"TP\"] + v_dict[\"FN\"] + v_dict[\"TN\"] + v_dict[\"FP\"])\n",
    "    print(f\"Accuracy  {round(accuracy*100,2)}%  --> Proportion of all classifications (attack and no attack) that were correct.\")\n",
    "    \n",
    "    # precision\n",
    "    if (v_dict[\"TP\"] + v_dict[\"FP\"]) == 0: # avoid nan when 0 division\n",
    "        precision = 0.0   \n",
    "    else:\n",
    "        precision = v_dict[\"TP\"] / (v_dict[\"TP\"] + v_dict[\"FP\"])\n",
    "    print(f\"Precision {round(precision*100,2)}%  --> Correctness: proportion of attack detections that were correct.\")\n",
    "    # Precision = Correctness: quality of positive predictions, (does not accout for correct detection of no attack - TN)!\n",
    "    # Precision improves when false positives decrease \n",
    "    # Solution: INCREASE threshold for classification --> less false pos but more false neg (bad for recall)\n",
    "     \n",
    "    # recall\n",
    "    recall = v_dict[\"TP\"]/(v_dict[\"TP\"]+v_dict[\"FN\"])\n",
    "    print(f\"Recall    {round(recall*100,2)}%  --> Sensitivity (TPR): proportion of actual attacks that could be correctly identified.\")\n",
    "    #  recall = models ability to detect attacks correctly (does not account for falase alarms!)\n",
    "    #  recall = probabaility of detection\n",
    "    #  Recall improves when false negatives decrease\n",
    "    #  Solution: DECREASE the threshold for classification --> less false negatives, but more false positives (bad for precision)\n",
    "\n",
    "    # precision-recall-tradeoff (you only optimize for one, because impoving one, makes the other worse)\n",
    "    # depending on case --> decide for the measure to optimize \n",
    "    \n",
    "    # you can either be PRECISE and be CAREFUL that attact predictions are correct --> high risk of missing actual attacks (High threshold)\n",
    "    # or you can make sure to be SENSITIVE and detect as much attacks as possible --> high risk of False Alarms (FPR) (LOW TRESHOLD)\n",
    "    # FPR = proportion of actual negatives that wee incorrecly classified as attacks\n",
    "    # the plot \n",
    "    ax = sns.heatmap(cf_matrix, annot=labels, fmt='', cmap=\"Blues\")\n",
    "    ax.set(xlabel=\"Predicted\", ylabel=\"True\")\n",
    "    return accuracy, precision, recall\n",
    "    "
   ]
  },
  {
   "cell_type": "code",
   "execution_count": 63,
   "id": "84a48834",
   "metadata": {},
   "outputs": [
    {
     "name": "stdout",
     "output_type": "stream",
     "text": [
      "Accuracy  53.46%  --> Proportion of all classifications (attack and no attack) that were correct.\n",
      "Precision 0.0%  --> Correctness: proportion of attack detections that were correct.\n",
      "Recall    0.0%  --> Sensitivity (TPR): proportion of actual attacks that could be correctly identified.\n"
     ]
    },
    {
     "data": {
      "image/png": "[encoded data removed]",
      "text/plain": [
       "<Figure size 640x480 with 2 Axes>"
      ]
     },
     "metadata": {},
     "output_type": "display_data"
    }
   ],
   "source": [
    "a, p, r = plot_confusion_matrix(y_train, m1_train_pred)"
   ]
  },
  {
   "cell_type": "code",
   "execution_count": 59,
   "id": "00d9edde",
   "metadata": {},
   "outputs": [
    {
     "name": "stdout",
     "output_type": "stream",
     "text": [
      "------------------------------------------------------------\n",
      "Classification Report: \n",
      "               precision    recall  f1-score   support\n",
      "\n",
      "           0       0.56      0.98      0.71     67343\n",
      "           1       0.84      0.12      0.21     58630\n",
      "\n",
      "    accuracy                           0.58    125973\n",
      "   macro avg       0.70      0.55      0.46    125973\n",
      "weighted avg       0.69      0.58      0.48    125973\n",
      "\n",
      "------------------------------------------------------------\n"
     ]
    }
   ],
   "source": [
    "m32_train_eval = model_evaluation(y_train, m3_train_pred)\n",
    "#m1_test_eval = model_evaluation(y_test, test_prediction)"
   ]
  },
  {
   "cell_type": "code",
   "execution_count": 56,
   "id": "46881975",
   "metadata": {},
   "outputs": [
    {
     "data": {
      "text/plain": [
       "0.7"
      ]
     },
     "execution_count": 56,
     "metadata": {},
     "output_type": "execute_result"
    }
   ],
   "source": [
    "(.84+0.56)/2"
   ]
  },
  {
   "cell_type": "code",
   "execution_count": null,
   "id": "9252a68f",
   "metadata": {},
   "outputs": [],
   "source": []
  }
 ],
 "metadata": {
  "kernelspec": {
   "display_name": ".venv",
   "language": "python",
   "name": "python3"
  },
  "language_info": {
   "codemirror_mode": {
    "name": "ipython",
    "version": 3
   },
   "file_extension": ".py",
   "mimetype": "text/x-python",
   "name": "python",
   "nbconvert_exporter": "python",
   "pygments_lexer": "ipython3",
   "version": "3.11.3"
  }
 },
 "nbformat": 4,
 "nbformat_minor": 5
}
